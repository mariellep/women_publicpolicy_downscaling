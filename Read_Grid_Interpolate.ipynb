{
 "cells": [
  {
   "cell_type": "code",
   "execution_count": 25,
   "metadata": {},
   "outputs": [],
   "source": [
    "%matplotlib inline\n",
    "import pygrib\n",
    "import numpy as np\n",
    "from netCDF4 import Dataset\n",
    "import os\n",
    "from scipy import spatial\n",
    "import pandas as pd\n",
    "def lon_convert(station_lon):\n",
    "    if station_lon<0:\n",
    "        diff_from_180=180+station_lon\n",
    "        station_lon_360=180+diff_from_180\n",
    "        station_lon_180=station_lon\n",
    "    else:\n",
    "        diff_from_360=360-station_lon\n",
    "        station_lon_180=-diff_from_360\n",
    "        station_lon_360=station_lon\n",
    "    return(station_lon_180,station_lon_360)\n",
    "\n",
    "#This came from Stack Overflow! Thanks random internet person\n",
    "#https://stackoverflow.com/questions/8661537/how-to-perform-bilinear-interpolation-in-python\n",
    "def bilinear_interpolation(x,y,coord_vals):\n",
    "    #We are assuming that the coord_vals are a list of 4 tuples containing\n",
    "    #x,y,and value\n",
    "    coords=sorted(coord_vals)\n",
    "    (x1,y1,q11),(_x1,y2,q12),(x2,_y1,q21),(_x2,_y2,q22) = coords\n",
    "    if x1 != _x1 or x2 != _x2 or y1 != _y1 or y2 != _y2:\n",
    "        raise ValueError('points do not form a rectangle')\n",
    "    if not x1 <= x <= x2 or not y1 <= y <= y2:\n",
    "        raise ValueError('(x, y) not within the rectangle')\n",
    "        \n",
    "    return (q11 * (x2 - x) * (y2 - y) +\n",
    "        q21 * (x - x1) * (y2 - y) +\n",
    "        q12 * (x2 - x) * (y - y1) +\n",
    "        q22 * (x - x1) * (y - y1)\n",
    "       ) / ((x2 - x1) * (y2 - y1) + 0.0)\n"
   ]
  },
  {
   "cell_type": "code",
   "execution_count": 39,
   "metadata": {},
   "outputs": [],
   "source": [
    "\n",
    "def interpolate_around_station(ystart,yend,var_string,lat_south,\n",
    "                              lat_north,lon_west,lon_east,\n",
    "                               station_lat,station_lon):\n",
    "    #Convert longitude coordinates\n",
    "    station_lon_180,station_lon_360=lon_convert(station_lon)\n",
    "    mon_str=[\"{num:02d}\".format(num=m) for m in range(1,13)]\n",
    "\n",
    "    print('reading in variable '+var_string)\n",
    "    #Find the points (read in lat/lon data from example grib file)\n",
    "    fstr='/gpfs/fs1/collections/rda/data/ds627.1/ei.moda.an.sfc/ei.moda.an.sfc.regn128sc.1979010100'\n",
    "    grib_open=pygrib.open(fstr)\n",
    "    grib_var=grib_open.select(name=var_string)[0]\n",
    "    data,lats,lons=grib_var.data(lat1=lat_south,lat2=lat_north,\n",
    "                                       lon1=lon_west,lon2=lon_east)\n",
    "    #make the lat and lon axes\n",
    "    lat_axis=lats[:,0]\n",
    "    lon_axis=lons[0,:]\n",
    "        \n",
    "    pt=[station_lon_360,station_lat]\n",
    "\n",
    "    #Find the 4 nearest coordinates\n",
    "    #First in the x direction\n",
    "    x_dist=[abs(station_lon_360-l) for l in lon_axis]\n",
    "    #Then the y\n",
    "    y_dist=[abs(station_lat-l) for l in lat_axis]\n",
    "\n",
    "    idx=np.argpartition(x_dist,2)\n",
    "    idy=np.argpartition(y_dist,2)\n",
    "\n",
    "    nearest_inds=[]\n",
    "    nearest_pts=[]\n",
    "\n",
    "    #make tuples of the coordinate pairs\n",
    "    for i in range(0,2):\n",
    "        for j in range(0,2):\n",
    "            nearest_inds.append((idx[i],idy[j]))\n",
    "            nearest_pts.append((lon_axis[idx[i]],lat_axis[idy[j]]))\n",
    "            \n",
    "    interp_vals=[]\n",
    "    dates=[]\n",
    "    mon_sum=np.zeros(12,dtype=float)\n",
    "    for y in range(ystart,(yend+1)):\n",
    "        mstart=0\n",
    "        mend=12\n",
    "        if y==ystart:\n",
    "            mstart=mon_str.index('10')\n",
    "        elif y==(yend):\n",
    "            mend=mon_str.index('09')+1\n",
    "\n",
    "        for m in range(mstart,mend):\n",
    "            fstr='/gpfs/fs1/collections/rda/data/ds627.1/ei.moda.an.sfc/ei.moda.an.sfc.regn128sc.'+str(y)+mon_str[m]+'0100'\n",
    "            #print('opening '+ fstr)\n",
    "            #Open the grib file\n",
    "            strdate=str(y)+'-'+mon_str[m]\n",
    "            dates.append(strdate)\n",
    "            #print(strdate)\n",
    "            grib_open=pygrib.open(fstr)\n",
    "            grib_var=grib_open.select(name=var_string)[0]\n",
    "            #subset the variable\n",
    "            var,lats,lons=grib_var.data(lat1=lat_south,lat2=lat_north,\n",
    "                                       lon1=lon_west,lon2=lon_east)\n",
    "\n",
    "            #grab the value that corresponds to the lat/lon pairs\n",
    "            nearest_copy=nearest_pts.copy()\n",
    "            for i in range(0,len(nearest_inds)):\n",
    "                val=var[nearest_inds[i]]\n",
    "                nearest_copy[i]=nearest_copy[i]+(val,)\n",
    "\n",
    "            new_val=bilinear_interpolation(station_lon_360,\n",
    "                                           station_lat,nearest_copy)\n",
    "            mon_sum[m]+=new_val\n",
    "            interp_vals.append(new_val)\n",
    "            #close the grib file\n",
    "            grib_open.close()\n",
    "    ny=yend-ystart\n",
    "    mon_avg=mon_sum/ny\n",
    "    \n",
    "    interp_copy=interp_vals.copy()\n",
    "    anom_vals=[]\n",
    "    for i in range(0,len(interp_copy)):\n",
    "        date_month=dates[i][5:]\n",
    "        mon_ind=int(date_month)-1\n",
    "        anom_vals.append(interp_copy[i]-mon_avg[mon_ind])\n",
    "    \n",
    "    return(interp_vals,anom_vals,dates)\n",
    "\n"
   ]
  },
  {
   "cell_type": "code",
   "execution_count": 40,
   "metadata": {
    "scrolled": false
   },
   "outputs": [
    {
     "name": "stdout",
     "output_type": "stream",
     "text": [
      "reading in variable 2 metre temperature\n"
     ]
    }
   ],
   "source": [
    "ystart=1979\n",
    "yend=2017\n",
    "var_string='2 metre temperature'\n",
    "lat_south=32\n",
    "lat_north=52\n",
    "lon_west=234\n",
    "lon_east=260\n",
    "station_lat=38.5050\n",
    "station_lon=-107.8975\n",
    "\n",
    "temps,anoms,dates=interpolate_around_station(ystart,yend,var_string,lat_south,lat_north,lon_west,lon_east,station_lat,station_lon)\n"
   ]
  },
  {
   "cell_type": "code",
   "execution_count": 41,
   "metadata": {},
   "outputs": [],
   "source": [
    "index = pd.date_range(start='10-01-'+str(ystart), end='09-30-'+str(yend), freq='M')"
   ]
  },
  {
   "cell_type": "code",
   "execution_count": 42,
   "metadata": {},
   "outputs": [],
   "source": [
    "df = pd.DataFrame(data=anoms, index=index)"
   ]
  },
  {
   "cell_type": "code",
   "execution_count": 43,
   "metadata": {},
   "outputs": [
    {
     "data": {
      "text/plain": [
       "<matplotlib.axes._subplots.AxesSubplot at 0x2ae2ca568780>"
      ]
     },
     "execution_count": 43,
     "metadata": {},
     "output_type": "execute_result"
    },
    {
     "data": {
      "image/png": "[encoded data removed]",
      "text/plain": [
       "<Figure size 432x288 with 1 Axes>"
      ]
     },
     "metadata": {
      "needs_background": "light"
     },
     "output_type": "display_data"
    }
   ],
   "source": [
    "df.plot()"
   ]
  },
  {
   "cell_type": "code",
   "execution_count": 44,
   "metadata": {},
   "outputs": [
    {
     "data": {
      "text/plain": [
       "38"
      ]
     },
     "execution_count": 44,
     "metadata": {},
     "output_type": "execute_result"
    }
   ],
   "source": [
    "2017-1979"
   ]
  },
  {
   "cell_type": "code",
   "execution_count": 45,
   "metadata": {},
   "outputs": [
    {
     "data": {
      "text/plain": [
       "38"
      ]
     },
     "execution_count": 45,
     "metadata": {},
     "output_type": "execute_result"
    }
   ],
   "source": [
    "2017-1980+1"
   ]
  },
  {
   "cell_type": "code",
   "execution_count": null,
   "metadata": {},
   "outputs": [],
   "source": []
  }
 ],
 "metadata": {
  "kernelspec": {
   "display_name": "Python 3",
   "language": "python",
   "name": "python3"
  },
  "language_info": {
   "codemirror_mode": {
    "name": "ipython",
    "version": 3
   },
   "file_extension": ".py",
   "mimetype": "text/x-python",
   "name": "python",
   "nbconvert_exporter": "python",
   "pygments_lexer": "ipython3",
   "version": "3.6.8"
  }
 },
 "nbformat": 4,
 "nbformat_minor": 2
}
